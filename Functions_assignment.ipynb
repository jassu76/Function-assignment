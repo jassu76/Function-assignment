{
  "nbformat": 4,
  "nbformat_minor": 0,
  "metadata": {
    "colab": {
      "provenance": []
    },
    "kernelspec": {
      "name": "python3",
      "display_name": "Python 3"
    },
    "language_info": {
      "name": "python"
    }
  },
  "cells": [
    {
      "cell_type": "code",
      "execution_count": null,
      "metadata": {
        "id": "U7mgYC8Y0Xjo"
      },
      "outputs": [],
      "source": []
    },
    {
      "cell_type": "markdown",
      "source": [
        "# Assignment\n",
        " 1. what is Python and why is it popular?\n",
        "  - Python is a high-level, general-purpose, interpreted, and object-oriented programming language.It's designed to be easy to read and write.Python is the dominant language in data science, AI, and machine learning, which adds to its appeal.\n",
        "\n",
        "\n",
        "2. What is an interpreter in Python\n",
        "   - Reads and executes Python code line by line\n",
        "3. What are pre-defined keywords in Python\n",
        "    - Reserved words that have predefined meanings & function.You cannot use them as variable names, function names, or identifiers because Python uses them to define its syntax and structure.\n",
        "4. Can keywords be used as variable names\n",
        "   - No.\n",
        "5. What is mutability in Python\n",
        "  - Object's ability to be modified after it is created.\n",
        "6. Why are lists mutable, but tuples are immutable\n",
        "  - Lists are mutable because they are designed to allow for changes in their content. tuples are immutable because their contents cannot be modified after initialization.\n",
        "7. What is the difference between “==” and “is” operators in Python\n",
        "  - \"==\" is Equality Operator and \"is\" is Identity Operator.\n",
        "8. What are logical operators in Python\n",
        "  - And, Or, Not\n",
        "9. What is type casting in Python.\n",
        "  - changing a variable's data type to another.\n",
        "10. What is the difference between implicit and explicit type casting\n",
        "  - Implicit type casting happens automatically by the compiler, while explicit type casting requires the programmer to define the conversion using specific syntax.\n",
        "11. What is the purpose of conditional statements in Python\n",
        "  - Conditional statements in Python are used to execute certain blocks of code based on specific conditions.\n",
        "12. How does the elif statement work.\n",
        "  - The elif statement in Python allows for multiple conditions to be checked sequentially.\n",
        "13. What is the difference between for and while loops?\n",
        "  - For loop is used to iterate over a sequence of items. While loop is used to repeatedly execute a block of statements while a condition is true.\n",
        "14. Describe a scenario where a while loop is more suitable than a for loop.\n",
        "  - when the number of iterations needed is not known in advance and depends on a specific condition being met."
      ],
      "metadata": {
        "id": "sIFt-RUL0gn2"
      }
    },
    {
      "cell_type": "code",
      "source": [
        "# 1. Write a Python program to print \"Hello, World!\n",
        "\n",
        "print(\"Hello, World!\")"
      ],
      "metadata": {
        "colab": {
          "base_uri": "https://localhost:8080/"
        },
        "id": "6s5AWVrXTmjF",
        "outputId": "85252957-9dbe-40ec-f849-f1fa4f294893"
      },
      "execution_count": 20,
      "outputs": [
        {
          "output_type": "stream",
          "name": "stdout",
          "text": [
            "Hello, World!\n"
          ]
        }
      ]
    },
    {
      "cell_type": "code",
      "source": [
        "# 2. Write a Python program that displays your name and age\n",
        "\n",
        "Name = \"Jaswant\"\n",
        "age = 26\n",
        "\n",
        "print(f\"My name is {Name} and my age is {age}\")"
      ],
      "metadata": {
        "colab": {
          "base_uri": "https://localhost:8080/"
        },
        "id": "zaeBvDIWUyQA",
        "outputId": "cc2e5aad-28ae-4419-f618-c982dbd239dc"
      },
      "execution_count": 19,
      "outputs": [
        {
          "output_type": "stream",
          "name": "stdout",
          "text": [
            "My name is Jaswant and my age is 26\n"
          ]
        }
      ]
    },
    {
      "cell_type": "code",
      "source": [
        "# 3.  Write code to print all the pre-defined keywords in Python using the keyword library8\n",
        "help(\"keywords\")"
      ],
      "metadata": {
        "colab": {
          "base_uri": "https://localhost:8080/"
        },
        "id": "XQFFtkrZU2ke",
        "outputId": "0c1d7799-67e3-44fd-bad9-dbd4ba73b26b"
      },
      "execution_count": 18,
      "outputs": [
        {
          "output_type": "stream",
          "name": "stdout",
          "text": [
            "\n",
            "Here is a list of the Python keywords.  Enter any keyword to get more help.\n",
            "\n",
            "False               class               from                or\n",
            "None                continue            global              pass\n",
            "True                def                 if                  raise\n",
            "and                 del                 import              return\n",
            "as                  elif                in                  try\n",
            "assert              else                is                  while\n",
            "async               except              lambda              with\n",
            "await               finally             nonlocal            yield\n",
            "break               for                 not                 \n",
            "\n"
          ]
        }
      ]
    },
    {
      "cell_type": "code",
      "source": [
        "#4. Write a program that checks if a given word is a Python keyword\n",
        "\n",
        "word = input(\"Enter a word: \")\n",
        "\n",
        "if (word == help(\"keywords\")):\n",
        "  print(\"Word is a Python keyword\")\n",
        "else:\n",
        "  print(\"Word is not a Python keyword\")"
      ],
      "metadata": {
        "colab": {
          "base_uri": "https://localhost:8080/"
        },
        "id": "bx-3hffrU6Oz",
        "outputId": "0a465434-abca-4f5c-88b2-50e75b90d55a"
      },
      "execution_count": 17,
      "outputs": [
        {
          "output_type": "stream",
          "name": "stdout",
          "text": [
            "Enter a word: hello\n",
            "\n",
            "Here is a list of the Python keywords.  Enter any keyword to get more help.\n",
            "\n",
            "False               class               from                or\n",
            "None                continue            global              pass\n",
            "True                def                 if                  raise\n",
            "and                 del                 import              return\n",
            "as                  elif                in                  try\n",
            "assert              else                is                  while\n",
            "async               except              lambda              with\n",
            "await               finally             nonlocal            yield\n",
            "break               for                 not                 \n",
            "\n",
            "Word is not a Python keyword\n"
          ]
        }
      ]
    },
    {
      "cell_type": "code",
      "source": [
        "#5. Create a list and tuple in Python, and demonstrate how attempting to change an element works differently for each\n",
        "# Creating a list\n",
        "my_list = [10, 20, 30]\n",
        "\n",
        "# Changing the second element\n",
        "my_list[1] = 99\n",
        "\n",
        "print(\"Modified list:\", my_list)\n",
        "\n",
        "# Creating a tuple\n",
        "my_tuple = (10, 20, 30)\n",
        "\n",
        "# Attempting to change the second element\n",
        "my_tuple[1] = 99  # This will raise an error\n",
        "print(\"immutable:\", my_tuple)"
      ],
      "metadata": {
        "colab": {
          "base_uri": "https://localhost:8080/",
          "height": 193
        },
        "id": "uyqxR96kU9cQ",
        "outputId": "6004f3af-da83-4e9d-ffa1-a973322597eb"
      },
      "execution_count": 21,
      "outputs": [
        {
          "output_type": "stream",
          "name": "stdout",
          "text": [
            "Modified list: [10, 99, 30]\n"
          ]
        },
        {
          "output_type": "error",
          "ename": "TypeError",
          "evalue": "'tuple' object does not support item assignment",
          "traceback": [
            "\u001b[0;31m---------------------------------------------------------------------------\u001b[0m",
            "\u001b[0;31mTypeError\u001b[0m                                 Traceback (most recent call last)",
            "\u001b[0;32m<ipython-input-21-7c24f43219b3>\u001b[0m in \u001b[0;36m<cell line: 0>\u001b[0;34m()\u001b[0m\n\u001b[1;32m     11\u001b[0m \u001b[0;34m\u001b[0m\u001b[0m\n\u001b[1;32m     12\u001b[0m \u001b[0;31m# Attempting to change the second element\u001b[0m\u001b[0;34m\u001b[0m\u001b[0;34m\u001b[0m\u001b[0m\n\u001b[0;32m---> 13\u001b[0;31m \u001b[0mmy_tuple\u001b[0m\u001b[0;34m[\u001b[0m\u001b[0;36m1\u001b[0m\u001b[0;34m]\u001b[0m \u001b[0;34m=\u001b[0m \u001b[0;36m99\u001b[0m  \u001b[0;31m# This will raise an error\u001b[0m\u001b[0;34m\u001b[0m\u001b[0;34m\u001b[0m\u001b[0m\n\u001b[0m",
            "\u001b[0;31mTypeError\u001b[0m: 'tuple' object does not support item assignment"
          ]
        }
      ]
    },
    {
      "cell_type": "code",
      "source": [
        "#6. Write a function to demonstrate the behavior of mutable and immutable arguments.\n",
        "\n",
        "Test_list = [1,2,3,4,5]\n",
        "Test_list[0] = 11\n",
        "print(Test_list)"
      ],
      "metadata": {
        "colab": {
          "base_uri": "https://localhost:8080/"
        },
        "id": "c8ONDJ7FVAHy",
        "outputId": "3e3e5bfa-6c63-4e24-c855-08f09f4f6661"
      },
      "execution_count": 15,
      "outputs": [
        {
          "output_type": "stream",
          "name": "stdout",
          "text": [
            "[11, 2, 3, 4, 5]\n"
          ]
        }
      ]
    },
    {
      "cell_type": "code",
      "source": [
        "#7. Write a program that performs basic arithmetic operations on two user-input numbers.\n",
        "x = int(input(\"Enter a number\"))\n",
        "y = int(input(\"Enter a number\"))\n",
        "\n",
        "print(\"sum:\",x+y)\n",
        "print(\"subtract:\",x-y)"
      ],
      "metadata": {
        "colab": {
          "base_uri": "https://localhost:8080/"
        },
        "id": "9DdauqYHVGJv",
        "outputId": "ec7bcd3d-1d30-4cc6-a7e4-827d3ab337a0"
      },
      "execution_count": 23,
      "outputs": [
        {
          "output_type": "stream",
          "name": "stdout",
          "text": [
            "Enter a number2\n",
            "Enter a number2\n",
            "sum: 4\n",
            "subtract: 0\n"
          ]
        }
      ]
    },
    {
      "cell_type": "code",
      "source": [
        "#8. Write a program to demonstrate the use of logical operators.\n",
        "\n",
        "a = 10\n",
        "b = 15\n",
        "c = 20\n",
        "\n",
        "print(a > 15 and b > 10)\n",
        "print(a > 15 or b > 10)"
      ],
      "metadata": {
        "colab": {
          "base_uri": "https://localhost:8080/"
        },
        "id": "wWj2eZKOVKct",
        "outputId": "aa9f09a3-ff4c-479f-dcb6-fa1396d5afc0"
      },
      "execution_count": 14,
      "outputs": [
        {
          "output_type": "stream",
          "name": "stdout",
          "text": [
            "False\n",
            "True\n"
          ]
        }
      ]
    },
    {
      "cell_type": "code",
      "source": [
        "#9. Write a Python program to convert user input from string to integer, float, and boolean types.\n",
        "\n",
        "a =\"10\"\n",
        "\n",
        "print(int(a))\n",
        "print(float(a))\n",
        "print(bool(a))"
      ],
      "metadata": {
        "colab": {
          "base_uri": "https://localhost:8080/"
        },
        "id": "I6B6YGMjVM5q",
        "outputId": "4231fa70-b1be-4c32-ef2b-d5b1a3ca5e47"
      },
      "execution_count": 13,
      "outputs": [
        {
          "output_type": "stream",
          "name": "stdout",
          "text": [
            "10\n",
            "10.0\n",
            "True\n"
          ]
        }
      ]
    },
    {
      "cell_type": "code",
      "source": [
        "#10. Write code to demonstrate type casting with list elements\n",
        "\n",
        "Test_list1 = [1,\"2\",\"apple\",3.4]\n",
        "Test_list1[1]=int(10)\n",
        "print(Test_list1)\n",
        "type(Test_list1[1])"
      ],
      "metadata": {
        "colab": {
          "base_uri": "https://localhost:8080/"
        },
        "id": "1ZOAJlMjVPMV",
        "outputId": "90297c6a-1016-4694-ff26-c23073de302a"
      },
      "execution_count": 12,
      "outputs": [
        {
          "output_type": "stream",
          "name": "stdout",
          "text": [
            "[1, 10, 'apple', 3.4]\n"
          ]
        },
        {
          "output_type": "execute_result",
          "data": {
            "text/plain": [
              "int"
            ]
          },
          "metadata": {},
          "execution_count": 12
        }
      ]
    },
    {
      "cell_type": "code",
      "source": [
        "#11. Write a program that checks if a number is positive, negative, or zero\n",
        "\n",
        "Number = int(input(\"Enter a Number\"))\n",
        "\n",
        "if Number > 0:\n",
        "    print(\"Number is Positive\")\n",
        "elif Number < 0:\n",
        "    print(\"Number is Negative\")\n",
        "else:\n",
        "    print(\"Number is Zero\")"
      ],
      "metadata": {
        "colab": {
          "base_uri": "https://localhost:8080/"
        },
        "id": "U8-ORcrnVSJC",
        "outputId": "b5729309-eb73-409f-a5a9-b9f3070b5091"
      },
      "execution_count": 11,
      "outputs": [
        {
          "output_type": "stream",
          "name": "stdout",
          "text": [
            "Enter a Number20\n",
            "Number is Positive\n"
          ]
        }
      ]
    },
    {
      "cell_type": "code",
      "source": [
        "#12. Write a for loop to print numbers from 1 to 10\n",
        "\n",
        "for i in range(1,10):\n",
        "  print(i, end = \" \")"
      ],
      "metadata": {
        "colab": {
          "base_uri": "https://localhost:8080/"
        },
        "id": "9VAS6EzxVXZx",
        "outputId": "15430951-ef26-4e53-a0f6-bfdb1ee08d08"
      },
      "execution_count": 10,
      "outputs": [
        {
          "output_type": "stream",
          "name": "stdout",
          "text": [
            "1 2 3 4 5 6 7 8 9 "
          ]
        }
      ]
    },
    {
      "cell_type": "code",
      "source": [
        "#13. Write a Python program to find the sum of all even numbers between 1 and 50\n",
        "\n",
        "sum = 0\n",
        "\n",
        "for i in range(0,50):\n",
        "  if i%2 == 0:\n",
        "    sum = sum + i\n",
        "print(sum)"
      ],
      "metadata": {
        "colab": {
          "base_uri": "https://localhost:8080/"
        },
        "id": "irGwDraGVaL3",
        "outputId": "ec553101-353a-4ab5-8767-230d7a633d77"
      },
      "execution_count": 9,
      "outputs": [
        {
          "output_type": "stream",
          "name": "stdout",
          "text": [
            "600\n"
          ]
        }
      ]
    },
    {
      "cell_type": "code",
      "source": [
        "#14. Write a program to reverse a string using a while loop\n",
        "\n",
        "str = \"PWSkill\" [:: -1]\n",
        "print(str)"
      ],
      "metadata": {
        "colab": {
          "base_uri": "https://localhost:8080/"
        },
        "id": "gDk9O5wrVcl-",
        "outputId": "6cfc1e9b-5b74-4dbd-ecb7-d230eeb91c0a"
      },
      "execution_count": 8,
      "outputs": [
        {
          "output_type": "stream",
          "name": "stdout",
          "text": [
            "llikSWP\n"
          ]
        }
      ]
    },
    {
      "cell_type": "code",
      "source": [
        "#15. Write a Python program to calculate the factorial of a number provided by the user using a while loop\n",
        "\n",
        "number = int(input(\"Enter a Number: \"))\n",
        "factorial = 1\n",
        "\n",
        "if number < 0:\n",
        "    print(\"Factorial is not defined for negative numbers.\")\n",
        "elif number == 0:\n",
        "    print(\"The factorial of 0 is 1\")\n",
        "else:\n",
        "    while number > 0:\n",
        "        factorial *= number\n",
        "        number -= 1\n",
        "    print(factorial)"
      ],
      "metadata": {
        "colab": {
          "base_uri": "https://localhost:8080/"
        },
        "id": "GRNz5sEHVfRU",
        "outputId": "548d83dd-de9c-40ec-cefa-8ae7b7766f83"
      },
      "execution_count": 7,
      "outputs": [
        {
          "output_type": "stream",
          "name": "stdout",
          "text": [
            "Enter a Number: 30\n",
            "265252859812191058636308480000000\n"
          ]
        }
      ]
    }
  ]
}